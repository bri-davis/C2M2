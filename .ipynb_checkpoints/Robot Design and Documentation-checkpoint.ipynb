{
 "cells": [
  {
   "cell_type": "markdown",
   "metadata": {},
   "source": [
    "# Robot Design and Documentation\n",
    "\n",
    "This notebook aims to provide you with tips on how to construct the most "
   ]
  },
  {
   "cell_type": "markdown",
   "metadata": {},
   "source": [
    "## Construction"
   ]
  },
  {
   "cell_type": "markdown",
   "metadata": {},
   "source": [
    "The main things to keep into mind when building a robot are the following:\n",
    "\n",
    "---\n",
    "                                    0. Reproducibility\n",
    "                                    1. Transferability\n",
    "                                    2. Scalability\n",
    "                                    3. Design Limitations\n",
    "    \n",
    "---\n",
    "\n",
    "### Reproducibility\n",
    "One of the main reasons that the LEGO EV3 is invaluable for research is its standardized parts and components. Each set contains the same exact pieces and the sensors, motors, and EV3 bricks are invariant between sets. This guarantees that one EV3 robot that is built can be rebuilt by someone else if they follow the correct design instructions. It is important to ensure that the robot model is reproducible by following a few methods for development. Firstly, make sure to use the correctly corresponding part box and robot.\n",
    "### Transferability\n",
    "It is important to build a robot that can use the currently developed code and printed gradients. Being able to run code robots (other than tuning parameters) \n",
    "### Scalability\n",
    "Another factor that weighs into design in this research is whether a robot can be scaled to dimensions of a car by some scaling factor. If we look at the current proportions of the robot, we see that it is meters long by meters wide by meters tall. If that is compared to"
   ]
  },
  {
   "cell_type": "markdown",
   "metadata": {},
   "source": [
    "## Documentation"
   ]
  },
  {
   "cell_type": "markdown",
   "metadata": {},
   "source": [
    "### BluePrint"
   ]
  },
  {
   "cell_type": "code",
   "execution_count": null,
   "metadata": {},
   "outputs": [],
   "source": []
  }
 ],
 "metadata": {
  "kernelspec": {
   "display_name": "Python 2",
   "language": "python",
   "name": "python2"
  },
  "language_info": {
   "codemirror_mode": {
    "name": "ipython",
    "version": 2
   },
   "file_extension": ".py",
   "mimetype": "text/x-python",
   "name": "python",
   "nbconvert_exporter": "python",
   "pygments_lexer": "ipython2",
   "version": "2.7.15"
  }
 },
 "nbformat": 4,
 "nbformat_minor": 2
}
