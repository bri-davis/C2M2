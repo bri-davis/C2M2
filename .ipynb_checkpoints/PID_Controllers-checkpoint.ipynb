{
 "cells": [
  {
   "cell_type": "markdown",
   "metadata": {},
   "source": [
    "# PID Controllers"
   ]
  },
  {
   "cell_type": "markdown",
   "metadata": {},
   "source": [
    "In this notebook, I will explain how each of proportional (P), derivative (D), and integral (I) controls were used in this research. First, I will provide an overview for the objective of each control. Next I will explain our particular implementation for each control using 1 and 2 sensors. I am including an analysis of benefits and liabilities for each.\n",
    "\n",
    "*Note: This notebook assumes that you have already defined \"steer\" for the EV3. Do not proceed without having already understood steering the EV3.*\n",
    "\n",
    "Before moving forward, it is important to define that a \"**target**\" intensity refers to your desired intensity value on the printed gradient. Irrespective of controller, every time you read in a value from the color sensor, you should compare it to a set target value and make a steering decision based on that. A reasonable target value is obtained by measuring the extremes of the color sensor intensities and averaging them. Low values correspond to dark areas on the printed gradient, while high values correspond to light areas on the printed gradient.\n",
    "\n",
    "From my tests, the printed gradient most frequently had a lowest color intensity of 4, and a highest color intensity of 84. Therefore a reasonable target would be (84-4)/2=40. In practice, you may observe that slightly lower targets will actually perform better depending on controller, but for now, measure the reasonable target as listed above and use that.\n"
   ]
  },
  {
   "cell_type": "markdown",
   "metadata": {},
   "source": [
    "## Proportional Control\n",
    "The **proportional control**, or simply the \"**P control**,\" is used to regulate the steering of the EV3 based on instantaneous feedback from the color sensor. The values that are received from the color sensor should be compared with a target value, and based on that result the EV3 should steer. The robot is using the current color sensor value in order to correct its position on the gradient to achieve a specific target value. Observe the following pseudocode for the process below:\n",
    "\n",
    "### Flow of P Control\n",
    "\n",
    "---\n",
    "                        while running:\n",
    "                            1. Get intensity value from color sensor\n",
    "                            2. Compare intensity value with target value\n",
    "                            3. Adjust steering for EV3\n",
    "                            \n",
    "---\n",
    "\n",
    "\n",
    "Now, I know what you're thinking. \"*How exactly do I adjust the steering for the EV3?*\" There are three components to this question, and each will be addressed below. This is a nontrivial task and is crucial to any implementation of a PID controller.\n",
    "\n",
    "So, the first part of this question is purely intuitive. You should steer to the direction that brings you closer to the target intensity. Since the printed gradient is a line, you are steering either left or right depending on the current reported intensity of the color sensor. This is represented through simple if-elif-else decision making in your Python code.\n",
    "\n",
    "The second part of this question is not so intuitive. You are trying to translate the unitless quantity reported by the EV3 color sensor into a measure for adjusting the steering. If you are using one color sensor on the robot, then it makes sense to subtract the target intensity from the reported intensity in order obtain the difference. The magnitude of the difference will tell you how much to steer. It is best to multiply this difference by a constant parameter in order to achieve the best control. The sign of the difference will tell you which direction to steer in.\n",
    "\n",
    "The third part of this question is how often you should update the steering. It is best to surround the above code in a while-loop in order to guarantee that you are updating as frequently as possible.\n",
    "\n",
    "Now, there may still be some confusion as to how to choose a parameter. A systematic approach to this problem is to first make the paramter 1, then run the robot and see how it steers. If there is oscillatory behavior, it is probably oversteering and the constant can be reduced. On the other hand if there is a noticeable lack of steering, then the constant needs to be increased.\n",
    "\n",
    "This procedure will guarantee an adequate implementation of the P control.\n",
    "\n",
    "Now, if you wish to use two color sensors on the EV3, then there needs to be a slight modification to the method for translation of sensor intensities into a measure for adjusting the steering. Instead of comparing to a target value, subtract the sensor intensities from each other. This difference in intensity values functions similarly to the difference in sensor and target above, and the programming of this solution follows the above method."
   ]
  },
  {
   "cell_type": "markdown",
   "metadata": {},
   "source": [
    "## Derivative Control\n",
    "The **derivative control**, or \"**D control**,\" takes into consideration the previous values of the color sensor. Previous sensor intensity values and their timestamps are stored in a list. These sensor intensity and timestamp pairs can then be compared with the current readings from the color sensor in order to gauge a measure of how fast the intensity is changing over time. This provides a new measure for us to adjust the steering, and is known as the D control. It is important to note that the D control is not meant to be used independently of the P control, but is rather taken in a linear combination with the P control. This combination is usually referred to as a \"PD control.\" Let us observe the PD control below:\n",
    "\n",
    "### Flow of PD Control:\n",
    "---\n",
    "                        while running:\n",
    "                            1. Get intensity value from color sensor and record timestamp\n",
    "                            2. Store intensity value and timestamp pair in a list\n",
    "                            3. P control: compare intensity value with target value\n",
    "                            4. D control: compare intensity value with previous intensity values\n",
    "                            5. Use a linear combination of P and D controls to adjust steering\n",
    "\n",
    "---\n",
    "Now, you may be wondering again, \"*How do I adjust steering for the EV3?*\" The P control is unmodified from the above section of this notebook. The D control provides a measure of the change in intensity value over a time period. The most intuitive implementation of this is to subtract the immediate previous color sensor value from the curent sensor value and divide over the timestep between the two, as follows: \n",
    "\n",
    "                            D = (curent_intensity - previous_intensity)/timestep\n",
    "                            \n",
    "Even though this may seem intuitive, in actual implementation, it has liabilities due to the nature of the discrete sensor values and small timestep. Dividing by a small timestep induces magnification of minor pertubations in the data, and therefore is unreliable to be used in general. In addition, the small timestep is not constant since linux is not a hard realtime system.\n",
    "\n",
    "So how exactly should you calculate the D control? Store a list of pairs of intensity values and their timestamps. Perform the above calculation, but instead of using the immediately previous value, use a value that is 8 values in the past. It would be good to define a parameter for how many values in the past you are using, and test different numbers for that parameter, in order to draw a systematic comparison. The code would look as follows:\n",
    "                            \n",
    "                            previous_values = []\n",
    "                            #Add sensor intensities to list\n",
    "                            #Use count modulus 8 function to update elements in list\n",
    "                            D = (curent_intensity - 8th_previous_intensity)/timestep\n",
    "                            \n",
    "Since the timestep between each sensor reading is approximately 0.04 seconds, then 8 times that will be 0.32 seconds. This is a much better timestep to divide by, but still needs further investigation."
   ]
  },
  {
   "cell_type": "markdown",
   "metadata": {},
   "source": [
    "## Integral Control"
   ]
  },
  {
   "cell_type": "markdown",
   "metadata": {},
   "source": [
    "The **integral control**, or \"**I control**,\" keeps a running average of intensity values in order to influence the measure by which you adjust the steering. Just as with the D control, the I control is not to be used independently, but is rather used in a linear combination with the P control. This combination is usually referred to as a \"PI control.\" Let us observe the PI control below:\n",
    "\n",
    "### Flow of PI Control:\n",
    "---\n",
    "                        while running:\n",
    "                            1. Get intensity value from color sensor\n",
    "                            3. P control: Compare intensity value with target value\n",
    "                            4. I control: Update average with intensity value\n",
    "                            5. I control: Compare average with target value\n",
    "                            5. Use a linear combination of P and I controls to adjust steering\n",
    "\n",
    "---\n",
    "Now, you may be wondering, \"*How do I update the average with the intensity value?*\" The I control is an attempt to integrate the intensity values. It is robust because it resists drastic change during changes of intensity. One way to build such a control is as follows: \n",
    "\n",
    "                            I = (1-μ)*I + μ*current_intensity\n",
    "                            \n",
    "In this case, we need μ to be very small, and the most intuitive value for μ is less than or equal to the timestep of each color sensor reading, so 0.05 or less. You can see that now this control will retain 95 percent of the previous average and only integrate in 0.05 percent of the current intensity, so it will be hard to create a deviation under minor inaccuracies in the data.\n",
    "\n",
    "Just as with the P control, you will need to compare the I control value with the target value in order to justify an adjustment of the steering."
   ]
  }
 ],
 "metadata": {
  "kernelspec": {
   "display_name": "Python 3",
   "language": "python",
   "name": "python3"
  },
  "language_info": {
   "codemirror_mode": {
    "name": "ipython",
    "version": 3
   },
   "file_extension": ".py",
   "mimetype": "text/x-python",
   "name": "python",
   "nbconvert_exporter": "python",
   "pygments_lexer": "ipython3",
   "version": "3.6.8"
  }
 },
 "nbformat": 4,
 "nbformat_minor": 2
}
