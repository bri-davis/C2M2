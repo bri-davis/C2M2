{
 "cells": [
  {
   "cell_type": "markdown",
   "metadata": {},
   "source": [
    "# Steering Algorithms"
   ]
  },
  {
   "cell_type": "markdown",
   "metadata": {},
   "source": [
    "In this notebook, I will explain how various steering algorithms were implemented in this research. First, I will provide an overview for an emulation of the EV3 MINDSTORMS steering algorithm, then I will introduce you to our current steering algorithm that keeps a constant average velocity on the robot at all times. I am including an analysis of benefits and liabilities for each.\n",
    "\n",
    "Before moving forward, it is important to define that \"**steering**\" refers to changing the direction that the EV3 robot is moving.\n",
    "\n"
   ]
  },
  {
   "cell_type": "markdown",
   "metadata": {},
   "source": [
    "## LEGO MINDSTORMS Steering Emulation\n",
    "The LEGO MINDSTORMS algorithm for steering works by keeping the outer large motor at the desired speed"
   ]
  }
 ],
 "metadata": {
  "kernelspec": {
   "display_name": "Python 3",
   "language": "python",
   "name": "python3"
  },
  "language_info": {
   "codemirror_mode": {
    "name": "ipython",
    "version": 3
   },
   "file_extension": ".py",
   "mimetype": "text/x-python",
   "name": "python",
   "nbconvert_exporter": "python",
   "pygments_lexer": "ipython3",
   "version": "3.6.8"
  }
 },
 "nbformat": 4,
 "nbformat_minor": 2
}
