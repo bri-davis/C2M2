{
 "cells": [
  {
   "cell_type": "markdown",
   "metadata": {},
   "source": [
    "# Steering Algorithms"
   ]
  },
  {
   "cell_type": "markdown",
   "metadata": {},
   "source": [
    "In this notebook, I will explain how various steering algorithms . First, I will provide an overview for the objective of each control. Next I will explain our particular implementation for each control using 1 and 2 sensors. I am including an analysis of benefits and liabilities for each.\n",
    "\n",
    "*Note: This notebook assumes that you have already defined \"steer\" for the EV3. Do not proceed without having already understood steering the EV3.*\n",
    "\n",
    "Before moving forward, it is important to define that a \"**target**\" intensity refers to your desired intensity value on the printed gradient. Irrespective of controller, every time you read in a value from the color sensor, you should compare it to a set target value and make a steering decision based on that. A reasonable target value is obtained by measuring the extremes of the color sensor intensities and averaging them. Low values correspond to dark areas on the printed gradient, while high values correspond to light areas on the printed gradient.\n",
    "\n",
    "From my tests, the printed gradient most frequently had a lowest color intensity of 4, and a highest color intensity of 84. Therefore a reasonable target would be (84-4)/2=40. In practice, you may observe that slightly lower targets will actually perform better depending on controller, but for now, measure the reasonable target as listed above and use that.\n"
   ]
  }
 ],
 "metadata": {
  "kernelspec": {
   "display_name": "Python 3",
   "language": "python",
   "name": "python3"
  },
  "language_info": {
   "codemirror_mode": {
    "name": "ipython",
    "version": 3
   },
   "file_extension": ".py",
   "mimetype": "text/x-python",
   "name": "python",
   "nbconvert_exporter": "python",
   "pygments_lexer": "ipython3",
   "version": "3.6.8"
  }
 },
 "nbformat": 4,
 "nbformat_minor": 2
}
